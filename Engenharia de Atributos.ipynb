{
 "cells": [
  {
   "cell_type": "code",
   "execution_count": 1,
   "metadata": {},
   "outputs": [],
   "source": [
    "import pandas as pd\n",
    "from sklearn.preprocessing import LabelEncoder, StandardScaler\n",
    "from sklearn.ensemble import RandomForestClassifier\n",
    "from sklearn.model_selection import train_test_split\n",
    "from sklearn.metrics import confusion_matrix, accuracy_score\n"
   ]
  },
  {
   "cell_type": "code",
   "execution_count": 2,
   "metadata": {},
   "outputs": [
    {
     "data": {
      "text/html": [
       "<div>\n",
       "<style scoped>\n",
       "    .dataframe tbody tr th:only-of-type {\n",
       "        vertical-align: middle;\n",
       "    }\n",
       "\n",
       "    .dataframe tbody tr th {\n",
       "        vertical-align: top;\n",
       "    }\n",
       "\n",
       "    .dataframe thead th {\n",
       "        text-align: right;\n",
       "    }\n",
       "</style>\n",
       "<table border=\"1\" class=\"dataframe\">\n",
       "  <thead>\n",
       "    <tr style=\"text-align: right;\">\n",
       "      <th></th>\n",
       "      <th>SALDO_ATUAL</th>\n",
       "      <th>RESIDENCIADESDE</th>\n",
       "      <th>IDADE</th>\n",
       "      <th>OUTROSPLANOSPGTO</th>\n",
       "      <th>DATA</th>\n",
       "      <th>ESTADOCIVIL</th>\n",
       "      <th>PROPOSITO</th>\n",
       "      <th>CLASSE</th>\n",
       "    </tr>\n",
       "  </thead>\n",
       "  <tbody>\n",
       "    <tr>\n",
       "      <th>0</th>\n",
       "      <td>1169.0</td>\n",
       "      <td>4</td>\n",
       "      <td>67</td>\n",
       "      <td>nenhum</td>\n",
       "      <td>01/01/2019</td>\n",
       "      <td>masculino solteiro</td>\n",
       "      <td>radio/tv</td>\n",
       "      <td>bom</td>\n",
       "    </tr>\n",
       "    <tr>\n",
       "      <th>1</th>\n",
       "      <td>5951.0</td>\n",
       "      <td>2</td>\n",
       "      <td>22</td>\n",
       "      <td>nenhum</td>\n",
       "      <td>01/01/2020</td>\n",
       "      <td>fem div/cas</td>\n",
       "      <td>radio/tv</td>\n",
       "      <td>ruim</td>\n",
       "    </tr>\n",
       "    <tr>\n",
       "      <th>2</th>\n",
       "      <td>2096.0</td>\n",
       "      <td>3</td>\n",
       "      <td>49</td>\n",
       "      <td>nenhum</td>\n",
       "      <td>02/01/2020</td>\n",
       "      <td>masculino solteiro</td>\n",
       "      <td>educação</td>\n",
       "      <td>bom</td>\n",
       "    </tr>\n",
       "    <tr>\n",
       "      <th>3</th>\n",
       "      <td>7882.0</td>\n",
       "      <td>4</td>\n",
       "      <td>45</td>\n",
       "      <td>nenhum</td>\n",
       "      <td>02/01/2019</td>\n",
       "      <td>masculino solteiro</td>\n",
       "      <td>mobilia/equipamento</td>\n",
       "      <td>bom</td>\n",
       "    </tr>\n",
       "    <tr>\n",
       "      <th>4</th>\n",
       "      <td>4870.0</td>\n",
       "      <td>4</td>\n",
       "      <td>53</td>\n",
       "      <td>nenhum</td>\n",
       "      <td>03/01/2018</td>\n",
       "      <td>masculino solteiro</td>\n",
       "      <td>carro novo</td>\n",
       "      <td>ruim</td>\n",
       "    </tr>\n",
       "  </tbody>\n",
       "</table>\n",
       "</div>"
      ],
      "text/plain": [
       "   SALDO_ATUAL  RESIDENCIADESDE  ...            PROPOSITO CLASSE\n",
       "0       1169.0                4  ...             radio/tv    bom\n",
       "1       5951.0                2  ...             radio/tv   ruim\n",
       "2       2096.0                3  ...             educação    bom\n",
       "3       7882.0                4  ...  mobilia/equipamento    bom\n",
       "4       4870.0                4  ...           carro novo   ruim\n",
       "\n",
       "[5 rows x 8 columns]"
      ]
     },
     "execution_count": 2,
     "metadata": {},
     "output_type": "execute_result"
    }
   ],
   "source": [
    "dataset = pd.read_csv('credito4.csv', sep=';')\n",
    "dataset.head()"
   ]
  },
  {
   "cell_type": "code",
   "execution_count": 4,
   "metadata": {},
   "outputs": [
    {
     "data": {
      "text/plain": [
       "(1000, 8)"
      ]
     },
     "execution_count": 4,
     "metadata": {},
     "output_type": "execute_result"
    }
   ],
   "source": [
    "dataset.shape"
   ]
  },
  {
   "cell_type": "code",
   "execution_count": 6,
   "metadata": {},
   "outputs": [],
   "source": [
    "y = dataset['CLASSE']\n",
    "X = dataset.iloc[:,0:7]"
   ]
  },
  {
   "cell_type": "code",
   "execution_count": null,
   "metadata": {},
   "outputs": [
    {
     "data": {
      "text/plain": [
       "SALDO_ATUAL         7\n",
       "RESIDENCIADESDE     0\n",
       "IDADE               0\n",
       "OUTROSPLANOSPGTO    0\n",
       "DATA                0\n",
       "ESTADOCIVIL         8\n",
       "PROPOSITO           0\n",
       "dtype: int64"
      ]
     },
     "execution_count": 7,
     "metadata": {},
     "output_type": "execute_result"
    }
   ],
   "source": [
    "# Checkando quantos valores temos nulos\n",
    "X.isnull().sum()"
   ]
  },
  {
   "cell_type": "code",
   "execution_count": 10,
   "metadata": {},
   "outputs": [
    {
     "data": {
      "text/plain": [
       "np.int64(0)"
      ]
     },
     "execution_count": 10,
     "metadata": {},
     "output_type": "execute_result"
    }
   ],
   "source": [
    "y.isnull().sum()"
   ]
  },
  {
   "cell_type": "code",
   "execution_count": 11,
   "metadata": {},
   "outputs": [
    {
     "data": {
      "text/plain": [
       "np.float64(2323.0)"
      ]
     },
     "execution_count": 11,
     "metadata": {},
     "output_type": "execute_result"
    }
   ],
   "source": [
    "# Usando o fillna para preencher os dados faltantes\n",
    "mediana_saldo_atual = X['SALDO_ATUAL'].median()\n",
    "mediana_saldo_atual"
   ]
  },
  {
   "cell_type": "code",
   "execution_count": 14,
   "metadata": {},
   "outputs": [
    {
     "name": "stderr",
     "output_type": "stream",
     "text": [
      "C:\\Users\\Igor\\AppData\\Local\\Temp\\ipykernel_6040\\3955557194.py:1: FutureWarning: A value is trying to be set on a copy of a DataFrame or Series through chained assignment using an inplace method.\n",
      "The behavior will change in pandas 3.0. This inplace method will never work because the intermediate object on which we are setting values always behaves as a copy.\n",
      "\n",
      "For example, when doing 'df[col].method(value, inplace=True)', try using 'df.method({col: value}, inplace=True)' or df[col] = df[col].method(value) instead, to perform the operation inplace on the original object.\n",
      "\n",
      "\n",
      "  X['SALDO_ATUAL'].fillna(mediana_saldo_atual, inplace=True)\n"
     ]
    }
   ],
   "source": [
    "X['SALDO_ATUAL'].fillna(mediana_saldo_atual, inplace=True)"
   ]
  },
  {
   "cell_type": "code",
   "execution_count": 16,
   "metadata": {},
   "outputs": [
    {
     "data": {
      "text/plain": [
       "SALDO_ATUAL         0\n",
       "RESIDENCIADESDE     0\n",
       "IDADE               0\n",
       "OUTROSPLANOSPGTO    0\n",
       "DATA                0\n",
       "ESTADOCIVIL         8\n",
       "PROPOSITO           0\n",
       "dtype: int64"
      ]
     },
     "execution_count": 16,
     "metadata": {},
     "output_type": "execute_result"
    }
   ],
   "source": [
    "# Pelo warning assumo que para o futuro devemos usar X.fillna({'SALDO_ATUAL': mediana_saldo_atual}, inplace=True)\n",
    "X.isnull().sum()"
   ]
  },
  {
   "cell_type": "code",
   "execution_count": null,
   "metadata": {},
   "outputs": [],
   "source": []
  }
 ],
 "metadata": {
  "kernelspec": {
   "display_name": ".venv",
   "language": "python",
   "name": "python3"
  },
  "language_info": {
   "codemirror_mode": {
    "name": "ipython",
    "version": 3
   },
   "file_extension": ".py",
   "mimetype": "text/x-python",
   "name": "python",
   "nbconvert_exporter": "python",
   "pygments_lexer": "ipython3",
   "version": "3.11.1"
  }
 },
 "nbformat": 4,
 "nbformat_minor": 2
}
